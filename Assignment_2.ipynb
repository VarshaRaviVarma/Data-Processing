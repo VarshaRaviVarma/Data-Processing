{
 "cells": [
  {
   "cell_type": "markdown",
   "id": "05cec40e",
   "metadata": {},
   "source": [
    "# Data Processing - Assignment 2\n",
    "\n",
    "In this assignment, we focus on the basics of NumPy and Pandas packages in Python. Write your code in Python 3 (Anaconda) and in a Jupyter notebook and submit the .ipynb file.\n",
    "\n",
    "## ndarray (40 points )\n",
    "\n",
    "- Create a list and 1-dimensional ndarray with identical elements and show that slicing in both is the same. "
   ]
  },
  {
   "cell_type": "code",
   "execution_count": 1,
   "id": "1139e32c",
   "metadata": {},
   "outputs": [
    {
     "name": "stdout",
     "output_type": "stream",
     "text": [
      "[1, 2]\n",
      "[1 2]\n"
     ]
    }
   ],
   "source": [
    "import numpy as np\n",
    "a = [1,2,3,4]\n",
    "b = np.array([1,2,3,4])\n",
    "\n",
    "print(a[0:2])\n",
    "print(b[0:2])"
   ]
  },
  {
   "cell_type": "markdown",
   "id": "627f47d8",
   "metadata": {},
   "source": [
    "  Choose 3 TV shows and create 2, 3x4 ndarrays as follows: \n",
    "\n",
    "  - The first ndarray called artists contains the name of 4 actors/actresses from each TV show.\n",
    "  \n",
    "  - The second ndarray called shows contains the name of the TV show corresponding to each actress."
   ]
  },
  {
   "cell_type": "code",
   "execution_count": 2,
   "id": "881e8036",
   "metadata": {},
   "outputs": [
    {
     "name": "stdout",
     "output_type": "stream",
     "text": [
      "[['Naruto' 'Hinata' 'Kurama' 'Jiraiya']\n",
      " ['Levi' 'Eren' 'Mikasa' 'Armin']\n",
      " ['Tohru' 'Kyo' 'Yuki' 'Arisa']]\n",
      "\n",
      "[['Naruto' 'Naruto' 'Naruto' 'Naruto']\n",
      " ['Attack on Titan' 'Attack on Titan' 'Attack on Titan' 'Attack on Titan']\n",
      " ['Fruits Basket' 'Fruits Basket' 'Fruits Basket' 'Fruits Basket']]\n"
     ]
    }
   ],
   "source": [
    "# Considering the following 3 anime shows and the charaters as artists: Naruto, Attack on Titan and Fruits Basket\n",
    "artists = np.array([['Naruto','Hinata','Kurama','Jiraiya'],['Levi','Eren','Mikasa','Armin'],['Tohru','Kyo','Yuki','Arisa']])\n",
    "shows = np.array([['Naruto','Naruto','Naruto','Naruto'],['Attack on Titan','Attack on Titan','Attack on Titan','Attack on Titan'],['Fruits Basket','Fruits Basket','Fruits Basket','Fruits Basket']])\n",
    "\n",
    "print(artists)\n",
    "print()\n",
    "print(shows)"
   ]
  },
  {
   "cell_type": "markdown",
   "id": "b56a1d9a",
   "metadata": {},
   "source": [
    "- Calculate the boolean indexing for one of the TV shows in the second ndarray."
   ]
  },
  {
   "cell_type": "code",
   "execution_count": 3,
   "id": "ea169629",
   "metadata": {},
   "outputs": [
    {
     "data": {
      "text/plain": [
       "array([[False, False, False, False],\n",
       "       [ True,  True,  True,  True],\n",
       "       [False, False, False, False]])"
      ]
     },
     "execution_count": 3,
     "metadata": {},
     "output_type": "execute_result"
    }
   ],
   "source": [
    "shows == 'Attack on Titan'"
   ]
  },
  {
   "cell_type": "markdown",
   "id": "6bc6ba78",
   "metadata": {},
   "source": [
    "- Using the boolean indexing from the previous step, select the actors/actresses that played in that TV show and put it in a new ndarray called selected_show. "
   ]
  },
  {
   "cell_type": "code",
   "execution_count": 4,
   "id": "45c87f26",
   "metadata": {},
   "outputs": [
    {
     "name": "stdout",
     "output_type": "stream",
     "text": [
      "['Levi' 'Eren' 'Mikasa' 'Armin']\n"
     ]
    }
   ],
   "source": [
    "selected_show = artists[shows == 'Attack on Titan']\n",
    "print(selected_show)"
   ]
  },
  {
   "cell_type": "markdown",
   "id": "213a3823",
   "metadata": {},
   "source": [
    "- Save all of the three ndarrays from the previous steps to disk."
   ]
  },
  {
   "cell_type": "code",
   "execution_count": 5,
   "id": "76e7de47",
   "metadata": {},
   "outputs": [],
   "source": [
    "np.savez('assignment_2_test.npz', name1=artists, name2=shows, name3=selected_show)"
   ]
  },
  {
   "cell_type": "markdown",
   "id": "eb8ca42b",
   "metadata": {},
   "source": [
    "- Reload the saved file and load the three ndarrays to three new variables called artists_new, shows_new and selected_show_new."
   ]
  },
  {
   "cell_type": "code",
   "execution_count": 6,
   "id": "50edf726",
   "metadata": {},
   "outputs": [
    {
     "name": "stdout",
     "output_type": "stream",
     "text": [
      "[['Naruto' 'Hinata' 'Kurama' 'Jiraiya']\n",
      " ['Levi' 'Eren' 'Mikasa' 'Armin']\n",
      " ['Tohru' 'Kyo' 'Yuki' 'Arisa']]\n",
      "\n",
      "[['Naruto' 'Naruto' 'Naruto' 'Naruto']\n",
      " ['Attack on Titan' 'Attack on Titan' 'Attack on Titan' 'Attack on Titan']\n",
      " ['Fruits Basket' 'Fruits Basket' 'Fruits Basket' 'Fruits Basket']]\n",
      "\n",
      "['Levi' 'Eren' 'Mikasa' 'Armin']\n"
     ]
    }
   ],
   "source": [
    "c = np.load('assignment_2_test.npz')\n",
    "artists_new = (c['name1'])\n",
    "shows_new = (c['name2'])\n",
    "selected_show_new = (c['name3'])\n",
    "\n",
    "print(artists_new)\n",
    "print()\n",
    "print(shows_new)\n",
    "print()\n",
    "print(selected_show_new)"
   ]
  },
  {
   "cell_type": "markdown",
   "id": "38d0bd4d",
   "metadata": {},
   "source": [
    "## Pandas Basics (60 points)\n",
    "\n",
    "Create a Series object as follows: __(20 points)__\n",
    "\n",
    "- The Series object contains at least 7 car models with the index being car brands like 'BMW' , e.g. data being X3 and the index is BMW."
   ]
  },
  {
   "cell_type": "code",
   "execution_count": 7,
   "id": "4d18f311",
   "metadata": {},
   "outputs": [],
   "source": [
    "import pandas as pd\n",
    "d = pd.Series(['a6 allroad', 'accord', 'altima','arteon','ascent','camry','bronco'], index = ['audi', 'honda', 'nissan', 'volkswagen','subaru','toyota','ford'])"
   ]
  },
  {
   "cell_type": "markdown",
   "id": "71b17e61",
   "metadata": {},
   "source": [
    "- Use boolean filtering to filter cars containing the letter 'a'"
   ]
  },
  {
   "cell_type": "code",
   "execution_count": 8,
   "id": "d28891e7",
   "metadata": {},
   "outputs": [
    {
     "name": "stdout",
     "output_type": "stream",
     "text": [
      "audi           True\n",
      "honda          True\n",
      "nissan         True\n",
      "volkswagen     True\n",
      "subaru         True\n",
      "toyota         True\n",
      "ford          False\n",
      "dtype: bool\n",
      "\n",
      "audi          a6 allroad\n",
      "honda             accord\n",
      "nissan            altima\n",
      "volkswagen        arteon\n",
      "subaru            ascent\n",
      "toyota             camry\n",
      "dtype: object\n"
     ]
    }
   ],
   "source": [
    "print(d.str.contains('a'))\n",
    "print()\n",
    "print(d[d.str.contains('a')])"
   ]
  },
  {
   "cell_type": "markdown",
   "id": "eb5e87cd",
   "metadata": {},
   "source": [
    "- Rename the index column to \"manufacturer\""
   ]
  },
  {
   "cell_type": "code",
   "execution_count": 9,
   "id": "b383930c",
   "metadata": {},
   "outputs": [
    {
     "name": "stdout",
     "output_type": "stream",
     "text": [
      "manufacturer\n",
      "audi          a6 allroad\n",
      "honda             accord\n",
      "nissan            altima\n",
      "volkswagen        arteon\n",
      "subaru            ascent\n",
      "toyota             camry\n",
      "ford              bronco\n",
      "dtype: object\n"
     ]
    }
   ],
   "source": [
    "d.index.name = 'manufacturer'\n",
    "print(d)"
   ]
  },
  {
   "cell_type": "markdown",
   "id": "60acf9f0",
   "metadata": {},
   "source": [
    "Create a DataFrame as follows: __(40 points)__\n",
    "\n",
    "- The DataFrame columns are \"sport\" (string), \"number_of_players\" (integer), \"ball_game\" (boolean) and  \"popularity\" (one of the values for 'high', 'medium' or 'low'), and the DataFrame contains at least 7 rows. "
   ]
  },
  {
   "cell_type": "code",
   "execution_count": 10,
   "id": "14308a8c",
   "metadata": {},
   "outputs": [
    {
     "name": "stdout",
     "output_type": "stream",
     "text": [
      "        sport  number_of_players  ball_game popularity\n",
      "0  basketball                  5       True       high\n",
      "1      hockey                  6      False       high\n",
      "2     cricket                 11       True       high\n",
      "3    baseball                  9       True     medium\n",
      "4     skating                  1      False     medium\n",
      "5        golf                  1       True        low\n",
      "6       track                  1      False        low\n"
     ]
    }
   ],
   "source": [
    "e = {'sport': ['basketball','hockey','cricket','baseball','skating','golf','track'],\n",
    "     'number_of_players': [5,6,11,9,1,1,1],\n",
    "     'ball_game': [True,False,True,True,False,True,False],\n",
    "     'popularity': ['high','high','high','medium','medium','low','low']}\n",
    "f = pd.DataFrame(e)\n",
    "print(f)"
   ]
  },
  {
   "cell_type": "markdown",
   "id": "f29948fd",
   "metadata": {},
   "source": [
    "- Add a new column to the DataFrame called \"Best Player\" and show that all the values for the column are NaN after adding the column "
   ]
  },
  {
   "cell_type": "code",
   "execution_count": 11,
   "id": "bf9352f3",
   "metadata": {},
   "outputs": [
    {
     "name": "stdout",
     "output_type": "stream",
     "text": [
      "        sport  number_of_players  ball_game popularity  Best Player\n",
      "0  basketball                  5       True       high          NaN\n",
      "1      hockey                  6      False       high          NaN\n",
      "2     cricket                 11       True       high          NaN\n",
      "3    baseball                  9       True     medium          NaN\n",
      "4     skating                  1      False     medium          NaN\n",
      "5        golf                  1       True        low          NaN\n",
      "6       track                  1      False        low          NaN\n"
     ]
    }
   ],
   "source": [
    "g = pd.DataFrame(f, columns = ['sport','number_of_players','ball_game','popularity','Best Player'])\n",
    "print (g)"
   ]
  },
  {
   "cell_type": "markdown",
   "id": "3fcfc6d5",
   "metadata": {},
   "source": [
    "- Set all of the values for the \"Best Player\" column to \"TBD\" short for to be determined. "
   ]
  },
  {
   "cell_type": "code",
   "execution_count": 12,
   "id": "f915c320",
   "metadata": {},
   "outputs": [
    {
     "name": "stdout",
     "output_type": "stream",
     "text": [
      "        sport  number_of_players  ball_game popularity Best Player\n",
      "0  basketball                  5       True       high         TBD\n",
      "1      hockey                  6      False       high         TBD\n",
      "2     cricket                 11       True       high         TBD\n",
      "3    baseball                  9       True     medium         TBD\n",
      "4     skating                  1      False     medium         TBD\n",
      "5        golf                  1       True        low         TBD\n",
      "6       track                  1      False        low         TBD\n"
     ]
    }
   ],
   "source": [
    "g['Best Player'] = 'TBD'\n",
    "print (g)"
   ]
  },
  {
   "cell_type": "markdown",
   "id": "ff0ddf6e",
   "metadata": {},
   "source": [
    "- Use slicing properly to extract \"number_of_players\" and \"sport\" for 3 rows."
   ]
  },
  {
   "cell_type": "code",
   "execution_count": 13,
   "id": "c6744dcc",
   "metadata": {},
   "outputs": [
    {
     "data": {
      "text/html": [
       "<div>\n",
       "<style scoped>\n",
       "    .dataframe tbody tr th:only-of-type {\n",
       "        vertical-align: middle;\n",
       "    }\n",
       "\n",
       "    .dataframe tbody tr th {\n",
       "        vertical-align: top;\n",
       "    }\n",
       "\n",
       "    .dataframe thead th {\n",
       "        text-align: right;\n",
       "    }\n",
       "</style>\n",
       "<table border=\"1\" class=\"dataframe\">\n",
       "  <thead>\n",
       "    <tr style=\"text-align: right;\">\n",
       "      <th></th>\n",
       "      <th>number_of_players</th>\n",
       "      <th>sport</th>\n",
       "    </tr>\n",
       "  </thead>\n",
       "  <tbody>\n",
       "    <tr>\n",
       "      <th>0</th>\n",
       "      <td>5</td>\n",
       "      <td>basketball</td>\n",
       "    </tr>\n",
       "    <tr>\n",
       "      <th>1</th>\n",
       "      <td>6</td>\n",
       "      <td>hockey</td>\n",
       "    </tr>\n",
       "    <tr>\n",
       "      <th>2</th>\n",
       "      <td>11</td>\n",
       "      <td>cricket</td>\n",
       "    </tr>\n",
       "  </tbody>\n",
       "</table>\n",
       "</div>"
      ],
      "text/plain": [
       "   number_of_players       sport\n",
       "0                  5  basketball\n",
       "1                  6      hockey\n",
       "2                 11     cricket"
      ]
     },
     "execution_count": 13,
     "metadata": {},
     "output_type": "execute_result"
    }
   ],
   "source": [
    "g.loc[0:2,['number_of_players','sport']]"
   ]
  },
  {
   "cell_type": "markdown",
   "id": "b19b704d",
   "metadata": {},
   "source": [
    "- Write a function called \"average_calculator\" and use the apply() method to average the number_of_players row. (do not use the built-in mean functions for this part)"
   ]
  },
  {
   "cell_type": "code",
   "execution_count": 14,
   "id": "c2fda5a5",
   "metadata": {},
   "outputs": [
    {
     "data": {
      "text/plain": [
       "number_of_players    4.857143\n",
       "dtype: float64"
      ]
     },
     "execution_count": 14,
     "metadata": {},
     "output_type": "execute_result"
    }
   ],
   "source": [
    "def average_calculator(h):\n",
    "    return sum(h)/len(h)\n",
    "\n",
    "g[['number_of_players']].apply(average_calculator, axis='rows')"
   ]
  },
  {
   "cell_type": "markdown",
   "id": "15fe2d52",
   "metadata": {},
   "source": [
    "- Try to sort the DataFrame by sport names. "
   ]
  },
  {
   "cell_type": "code",
   "execution_count": 15,
   "id": "bda3c8de",
   "metadata": {},
   "outputs": [
    {
     "name": "stdout",
     "output_type": "stream",
     "text": [
      "        sport  number_of_players  ball_game popularity Best Player\n",
      "3    baseball                  9       True     medium         TBD\n",
      "0  basketball                  5       True       high         TBD\n",
      "2     cricket                 11       True       high         TBD\n",
      "5        golf                  1       True        low         TBD\n",
      "1      hockey                  6      False       high         TBD\n",
      "4     skating                  1      False     medium         TBD\n",
      "6       track                  1      False        low         TBD\n"
     ]
    }
   ],
   "source": [
    "h = g.sort_values(by='sport')\n",
    "print(h)"
   ]
  },
  {
   "cell_type": "markdown",
   "id": "41612424",
   "metadata": {},
   "source": [
    "- Find both the index and name of the sport with the maximum amount of players. "
   ]
  },
  {
   "cell_type": "code",
   "execution_count": 16,
   "id": "f0df4071",
   "metadata": {},
   "outputs": [
    {
     "name": "stdout",
     "output_type": "stream",
     "text": [
      "     sport  number_of_players\n",
      "2  cricket                 11\n"
     ]
    }
   ],
   "source": [
    "j = g.sort_values(by='number_of_players',ascending=False)\n",
    "k = j.loc[:,['sport','number_of_players']]\n",
    "print(k.head(1))"
   ]
  },
  {
   "cell_type": "markdown",
   "id": "73c462dd",
   "metadata": {},
   "source": [
    "- Save the DataFrame to disk as a CSV file. "
   ]
  },
  {
   "cell_type": "code",
   "execution_count": 17,
   "id": "10555f79",
   "metadata": {},
   "outputs": [],
   "source": [
    "g.to_csv('assignment_2_test2.txt')"
   ]
  },
  {
   "cell_type": "markdown",
   "id": "a6769779",
   "metadata": {},
   "source": [
    "- Reload the saved CSV in a new variable. "
   ]
  },
  {
   "cell_type": "code",
   "execution_count": 18,
   "id": "ed1b2360",
   "metadata": {},
   "outputs": [
    {
     "name": "stdout",
     "output_type": "stream",
     "text": [
      "        sport  number_of_players  ball_game popularity Best Player\n",
      "0  basketball                  5       True       high         TBD\n",
      "1      hockey                  6      False       high         TBD\n",
      "2     cricket                 11       True       high         TBD\n",
      "3    baseball                  9       True     medium         TBD\n",
      "4     skating                  1      False     medium         TBD\n",
      "5        golf                  1       True        low         TBD\n",
      "6       track                  1      False        low         TBD\n"
     ]
    }
   ],
   "source": [
    "l = pd.read_csv('assignment_2_test2.txt',index_col=[0])\n",
    "print(l)"
   ]
  }
 ],
 "metadata": {
  "kernelspec": {
   "display_name": "Python 3 (ipykernel)",
   "language": "python",
   "name": "python3"
  },
  "language_info": {
   "codemirror_mode": {
    "name": "ipython",
    "version": 3
   },
   "file_extension": ".py",
   "mimetype": "text/x-python",
   "name": "python",
   "nbconvert_exporter": "python",
   "pygments_lexer": "ipython3",
   "version": "3.9.12"
  }
 },
 "nbformat": 4,
 "nbformat_minor": 5
}
