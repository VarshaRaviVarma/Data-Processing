{
 "cells": [
  {
   "cell_type": "markdown",
   "id": "b898b7f5",
   "metadata": {},
   "source": [
    "# Data Processing - Assignment 1\n",
    "\n",
    "In this assignment, we focus on the basics of Python programming. You are expected to have Python 3 (Anaconda) installed and you are supposed to write your code in a Jupyter notebook and submit the .ipynb file and PDF of the notebook.\n",
    "\n",
    "## Fundamentals (30 points)\n",
    "\n",
    "- Import NumPy and create 2 arrays with the same length and another one with a different length (3 arrays in total)."
   ]
  },
  {
   "cell_type": "code",
   "execution_count": 1,
   "id": "72544bc1",
   "metadata": {},
   "outputs": [],
   "source": [
    "import numpy as np\n",
    "a = np.array([1,2,3])\n",
    "b = np.array([4,5,6])\n",
    "c = np.array([7,8,9,10])"
   ]
  },
  {
   "cell_type": "markdown",
   "id": "c825bd2a",
   "metadata": {},
   "source": [
    "- Perform at least three operations of your choice on arrays of the same size."
   ]
  },
  {
   "cell_type": "code",
   "execution_count": 2,
   "id": "d56b6138",
   "metadata": {},
   "outputs": [
    {
     "name": "stdout",
     "output_type": "stream",
     "text": [
      "[ 4 10 18]\n",
      "[1 0 0]\n",
      "[16 25 36]\n"
     ]
    }
   ],
   "source": [
    "print(np.multiply(a,b))\n",
    "print(np.reciprocal(a))\n",
    "print(np.power(b,2))"
   ]
  },
  {
   "cell_type": "markdown",
   "id": "ce5c714e",
   "metadata": {},
   "source": [
    "- Perform at least three operations of your choice on one element from two arrays. "
   ]
  },
  {
   "cell_type": "code",
   "execution_count": 3,
   "id": "e532e544",
   "metadata": {},
   "outputs": [
    {
     "name": "stdout",
     "output_type": "stream",
     "text": [
      "7\n",
      "2\n",
      "279936\n"
     ]
    }
   ],
   "source": [
    "print(np.add(a[0],b[2]))\n",
    "print(np.mod(c[1], a[2]))\n",
    "print(b[2]**c[0])"
   ]
  },
  {
   "cell_type": "markdown",
   "id": "e8faf419",
   "metadata": {},
   "source": [
    "- Create four variables containing a string, integer, float, and boolean and try to cast them to (in order) boolean, float, integer, and string. "
   ]
  },
  {
   "cell_type": "code",
   "execution_count": 4,
   "id": "9f9d5705",
   "metadata": {},
   "outputs": [
    {
     "name": "stdout",
     "output_type": "stream",
     "text": [
      "<class 'bool'>\n",
      "<class 'float'>\n",
      "<class 'int'>\n",
      "<class 'str'>\n"
     ]
    }
   ],
   "source": [
    "d = 'abc'\n",
    "e = 123\n",
    "f = 12.3\n",
    "g = True\n",
    "\n",
    "h = bool(d)\n",
    "i = float(e)\n",
    "j = int(f)\n",
    "k = str(g)\n",
    "\n",
    "print(type(h))\n",
    "print(type(i))\n",
    "print(type(j))\n",
    "print(type(k))"
   ]
  },
  {
   "cell_type": "markdown",
   "id": "89ee53bb",
   "metadata": {},
   "source": [
    "## Control flow (10 points)\n",
    "\n",
    "- Create an array containing numbers 1 to 10. Iterate through the array using a for a loop. Inside the for loop use some if statement to print the numbers \"four\" instead of 4 and \"eight\" instead of 8, otherwise print the digit number. "
   ]
  },
  {
   "cell_type": "code",
   "execution_count": 5,
   "id": "dbf7c63c",
   "metadata": {},
   "outputs": [
    {
     "name": "stdout",
     "output_type": "stream",
     "text": [
      "1\n",
      "2\n",
      "3\n",
      "four\n",
      "5\n",
      "6\n",
      "7\n",
      "eight\n",
      "9\n",
      "10\n"
     ]
    }
   ],
   "source": [
    "l = np.array([1,2,3,4,5,6,7,8,9,10])\n",
    "for i in l:\n",
    "    if(i==4):\n",
    "        print(\"four\")\n",
    "    elif(i==8):\n",
    "        print(\"eight\")\n",
    "    else:\n",
    "        print(i)"
   ]
  },
  {
   "cell_type": "markdown",
   "id": "860ebdfd",
   "metadata": {},
   "source": [
    "## Data Structure (30 points)\n",
    "\n",
    "- Create a tuple containing 3 numbers and a list containing 5 numbers. Unpack the tuple into 3 different variables and print them. Then try to remove an element from the list and instead insert one of the variables that were the result of unpacked tuple. Finally, slice and sort the first 3 elements of the list. "
   ]
  },
  {
   "cell_type": "code",
   "execution_count": 6,
   "id": "19628d79",
   "metadata": {},
   "outputs": [
    {
     "name": "stdout",
     "output_type": "stream",
     "text": [
      "1\n",
      "2\n",
      "3\n",
      "[4, 5, 6, 7]\n",
      "[4, 5, 1, 6, 7]\n",
      "[1, 4, 5]\n"
     ]
    }
   ],
   "source": [
    "m = 1,2,3\n",
    "n = [4,5,6,7,8]\n",
    "\n",
    "o,p,q = m\n",
    "print (o)\n",
    "print (p)\n",
    "print (q)\n",
    "\n",
    "n.pop()\n",
    "print(n)\n",
    "n.insert(2,o)\n",
    "print(n)\n",
    "\n",
    "r = n[0:3]\n",
    "r.sort()\n",
    "print(r)"
   ]
  },
  {
   "cell_type": "markdown",
   "id": "9e9b2bb7",
   "metadata": {},
   "source": [
    "- Create a dictionary with these keys: 'int', 'float', 'string', 'boolean', 'list', 'set', 'tuple' and 'dict' and for each key, assign the value of that specific type. For instance, you should create a temporary small dictionary to assign to the 'dict'. "
   ]
  },
  {
   "cell_type": "code",
   "execution_count": 7,
   "id": "ed8e291d",
   "metadata": {},
   "outputs": [
    {
     "name": "stdout",
     "output_type": "stream",
     "text": [
      "dict_keys(['int', 'float', 'string', 'boolean', 'list', 'set', 'tuple', 'dict'])\n",
      "dict_values([1, 1.1, 'abc', False, [1, 2, 3], {1, 2, 3, 4}, (1, 2), {'abc': 123}])\n"
     ]
    }
   ],
   "source": [
    "s = {'int':1,'float':1.1,'string':'abc','boolean':False,'list':[1,2,3],'set':set([1,2,3,4]),'tuple':(1,2),'dict':{'abc':123}}\n",
    "print(s.keys())\n",
    "print(s.values())"
   ]
  },
  {
   "cell_type": "markdown",
   "id": "b7ef0d4d",
   "metadata": {},
   "source": [
    "## Sequence Function (10 points)\n",
    "\n",
    "Create a list containing letters 'a' to 'f', then using a for loop and proper sequence function, produce the following output: \n",
    "\n",
    "3 --> a \n",
    "\n",
    "4 --> b\n",
    "\n",
    "5 --> c \n",
    "\n",
    "6 --> d\n",
    "\n",
    "7 --> e \n",
    "\n",
    "8 --> f "
   ]
  },
  {
   "cell_type": "code",
   "execution_count": 8,
   "id": "4f7ce7cc",
   "metadata": {},
   "outputs": [
    {
     "name": "stdout",
     "output_type": "stream",
     "text": [
      "3 --> a\n",
      "\n",
      "4 --> b\n",
      "\n",
      "5 --> c\n",
      "\n",
      "6 --> d\n",
      "\n",
      "7 --> e\n",
      "\n",
      "8 --> f\n",
      "\n"
     ]
    }
   ],
   "source": [
    "t = ['a','b','c','d','e','f']\n",
    "for index,letter in enumerate(t):\n",
    "    print(str(index+3) + ' --> ' + str(letter) + '\\n')"
   ]
  },
  {
   "cell_type": "markdown",
   "id": "f70bb3bd",
   "metadata": {},
   "source": [
    "## Copying (10 points)\n",
    "\n",
    "By copying the previous list, create a new variable containing the same 'a' to 'f' elements from the previous list. Change an element in one of the variables and make sure the other doesn't change. "
   ]
  },
  {
   "cell_type": "code",
   "execution_count": 9,
   "id": "3e528384",
   "metadata": {},
   "outputs": [
    {
     "name": "stdout",
     "output_type": "stream",
     "text": [
      "['a', 'b', 'c', 'd', 'e', 'f']\n",
      "['a', 'b', 'c', 'd', 'e']\n",
      "['a', 'b', 'c', 'd', 'e', 'f']\n"
     ]
    }
   ],
   "source": [
    "u = t.copy()\n",
    "print(u)\n",
    "\n",
    "u.pop()\n",
    "print(u)\n",
    "print(t)"
   ]
  },
  {
   "cell_type": "markdown",
   "id": "ef6004ca",
   "metadata": {},
   "source": [
    "## Exception Handling (10 points)\n",
    "\n",
    "Create a variable containing a tuple object. Then try to change its first element the way you change an element in a list and see what kind of error you will get. Then try to catch handle the error and instead of the error print \"Tuples are immutable :)\" "
   ]
  },
  {
   "cell_type": "code",
   "execution_count": 10,
   "id": "f5b94df1",
   "metadata": {},
   "outputs": [
    {
     "name": "stdout",
     "output_type": "stream",
     "text": [
      "Tuples are immutable :)\n"
     ]
    }
   ],
   "source": [
    "v = (1,1,2,3,4,5)  \n",
    "try:\n",
    "    v[0] = 0\n",
    "except TypeError:\n",
    "    print (\"Tuples are immutable :)\")"
   ]
  }
 ],
 "metadata": {
  "kernelspec": {
   "display_name": "Python 3 (ipykernel)",
   "language": "python",
   "name": "python3"
  },
  "language_info": {
   "codemirror_mode": {
    "name": "ipython",
    "version": 3
   },
   "file_extension": ".py",
   "mimetype": "text/x-python",
   "name": "python",
   "nbconvert_exporter": "python",
   "pygments_lexer": "ipython3",
   "version": "3.9.12"
  }
 },
 "nbformat": 4,
 "nbformat_minor": 5
}
