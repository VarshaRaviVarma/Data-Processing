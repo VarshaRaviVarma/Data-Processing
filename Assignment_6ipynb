{
 "cells": [
  {
   "cell_type": "markdown",
   "id": "e6356b0f",
   "metadata": {},
   "source": [
    "# Data Processing - Assignment 6"
   ]
  },
  {
   "cell_type": "code",
   "execution_count": 1,
   "id": "a9297d28",
   "metadata": {},
   "outputs": [],
   "source": [
    "import time\n",
    "import numpy as np\n",
    "import pandas as pd\n",
    "from sklearn import svm\n",
    "from sklearn.svm import SVC\n",
    "svc = svm.SVC()\n",
    "from sklearn.model_selection import cross_val_score\n",
    "from sklearn.linear_model import Ridge\n",
    "from sklearn.preprocessing import PolynomialFeatures\n",
    "from sklearn.pipeline import make_pipeline\n",
    "from sklearn.cluster import KMeans\n",
    "import matplotlib.pyplot as plt\n",
    "from sklearn.metrics import silhouette_score\n",
    "from sklearn.datasets import load_iris\n",
    "from sklearn.feature_selection import VarianceThreshold, SelectKBest, SelectPercentile, chi2, f_classif,  mutual_info_classif\n",
    "from sklearn.feature_selection import SelectFpr, SelectFwe, GenericUnivariateSelect"
   ]
  },
  {
   "cell_type": "markdown",
   "id": "91f8925a",
   "metadata": {},
   "source": [
    "### Task 1 (20 points)"
   ]
  },
  {
   "cell_type": "code",
   "execution_count": 2,
   "id": "bd8e72d1",
   "metadata": {},
   "outputs": [
    {
     "data": {
      "text/html": [
       "<div>\n",
       "<style scoped>\n",
       "    .dataframe tbody tr th:only-of-type {\n",
       "        vertical-align: middle;\n",
       "    }\n",
       "\n",
       "    .dataframe tbody tr th {\n",
       "        vertical-align: top;\n",
       "    }\n",
       "\n",
       "    .dataframe thead th {\n",
       "        text-align: right;\n",
       "    }\n",
       "</style>\n",
       "<table border=\"1\" class=\"dataframe\">\n",
       "  <thead>\n",
       "    <tr style=\"text-align: right;\">\n",
       "      <th></th>\n",
       "      <th>word_freq_make</th>\n",
       "      <th>word_freq_address</th>\n",
       "      <th>word_freq_all</th>\n",
       "      <th>word_freq_3d</th>\n",
       "      <th>word_freq_our</th>\n",
       "      <th>word_freq_over</th>\n",
       "      <th>word_freq_remove</th>\n",
       "      <th>word_freq_internet</th>\n",
       "      <th>word_freq_order</th>\n",
       "      <th>word_freq_mail</th>\n",
       "      <th>...</th>\n",
       "      <th>char_freq_semi_colon</th>\n",
       "      <th>char_freq_open_round_bracket</th>\n",
       "      <th>char_freq_open_square_bracket</th>\n",
       "      <th>char_freq_exclamatory_mark</th>\n",
       "      <th>char_freq_dollar_sign</th>\n",
       "      <th>char_freq_hashtag</th>\n",
       "      <th>capital_run_length_average</th>\n",
       "      <th>capital_run_length_longest</th>\n",
       "      <th>capital_run_length_total</th>\n",
       "      <th>spam_or_ham</th>\n",
       "    </tr>\n",
       "  </thead>\n",
       "  <tbody>\n",
       "    <tr>\n",
       "      <th>0</th>\n",
       "      <td>0.21</td>\n",
       "      <td>0.28</td>\n",
       "      <td>0.50</td>\n",
       "      <td>0.0</td>\n",
       "      <td>0.14</td>\n",
       "      <td>0.28</td>\n",
       "      <td>0.21</td>\n",
       "      <td>0.07</td>\n",
       "      <td>0.00</td>\n",
       "      <td>0.94</td>\n",
       "      <td>...</td>\n",
       "      <td>0.00</td>\n",
       "      <td>0.132</td>\n",
       "      <td>0.0</td>\n",
       "      <td>0.372</td>\n",
       "      <td>0.180</td>\n",
       "      <td>0.048</td>\n",
       "      <td>5.114</td>\n",
       "      <td>101</td>\n",
       "      <td>1028</td>\n",
       "      <td>1</td>\n",
       "    </tr>\n",
       "    <tr>\n",
       "      <th>1</th>\n",
       "      <td>0.06</td>\n",
       "      <td>0.00</td>\n",
       "      <td>0.71</td>\n",
       "      <td>0.0</td>\n",
       "      <td>1.23</td>\n",
       "      <td>0.19</td>\n",
       "      <td>0.19</td>\n",
       "      <td>0.12</td>\n",
       "      <td>0.64</td>\n",
       "      <td>0.25</td>\n",
       "      <td>...</td>\n",
       "      <td>0.01</td>\n",
       "      <td>0.143</td>\n",
       "      <td>0.0</td>\n",
       "      <td>0.276</td>\n",
       "      <td>0.184</td>\n",
       "      <td>0.010</td>\n",
       "      <td>9.821</td>\n",
       "      <td>485</td>\n",
       "      <td>2259</td>\n",
       "      <td>1</td>\n",
       "    </tr>\n",
       "    <tr>\n",
       "      <th>2</th>\n",
       "      <td>0.00</td>\n",
       "      <td>0.00</td>\n",
       "      <td>0.00</td>\n",
       "      <td>0.0</td>\n",
       "      <td>0.63</td>\n",
       "      <td>0.00</td>\n",
       "      <td>0.31</td>\n",
       "      <td>0.63</td>\n",
       "      <td>0.31</td>\n",
       "      <td>0.63</td>\n",
       "      <td>...</td>\n",
       "      <td>0.00</td>\n",
       "      <td>0.137</td>\n",
       "      <td>0.0</td>\n",
       "      <td>0.137</td>\n",
       "      <td>0.000</td>\n",
       "      <td>0.000</td>\n",
       "      <td>3.537</td>\n",
       "      <td>40</td>\n",
       "      <td>191</td>\n",
       "      <td>1</td>\n",
       "    </tr>\n",
       "    <tr>\n",
       "      <th>3</th>\n",
       "      <td>0.00</td>\n",
       "      <td>0.00</td>\n",
       "      <td>0.00</td>\n",
       "      <td>0.0</td>\n",
       "      <td>0.63</td>\n",
       "      <td>0.00</td>\n",
       "      <td>0.31</td>\n",
       "      <td>0.63</td>\n",
       "      <td>0.31</td>\n",
       "      <td>0.63</td>\n",
       "      <td>...</td>\n",
       "      <td>0.00</td>\n",
       "      <td>0.135</td>\n",
       "      <td>0.0</td>\n",
       "      <td>0.135</td>\n",
       "      <td>0.000</td>\n",
       "      <td>0.000</td>\n",
       "      <td>3.537</td>\n",
       "      <td>40</td>\n",
       "      <td>191</td>\n",
       "      <td>1</td>\n",
       "    </tr>\n",
       "    <tr>\n",
       "      <th>4</th>\n",
       "      <td>0.00</td>\n",
       "      <td>0.00</td>\n",
       "      <td>0.00</td>\n",
       "      <td>0.0</td>\n",
       "      <td>1.85</td>\n",
       "      <td>0.00</td>\n",
       "      <td>0.00</td>\n",
       "      <td>1.85</td>\n",
       "      <td>0.00</td>\n",
       "      <td>0.00</td>\n",
       "      <td>...</td>\n",
       "      <td>0.00</td>\n",
       "      <td>0.223</td>\n",
       "      <td>0.0</td>\n",
       "      <td>0.000</td>\n",
       "      <td>0.000</td>\n",
       "      <td>0.000</td>\n",
       "      <td>3.000</td>\n",
       "      <td>15</td>\n",
       "      <td>54</td>\n",
       "      <td>1</td>\n",
       "    </tr>\n",
       "  </tbody>\n",
       "</table>\n",
       "<p>5 rows × 58 columns</p>\n",
       "</div>"
      ],
      "text/plain": [
       "   word_freq_make  word_freq_address  word_freq_all  word_freq_3d  \\\n",
       "0            0.21               0.28           0.50           0.0   \n",
       "1            0.06               0.00           0.71           0.0   \n",
       "2            0.00               0.00           0.00           0.0   \n",
       "3            0.00               0.00           0.00           0.0   \n",
       "4            0.00               0.00           0.00           0.0   \n",
       "\n",
       "   word_freq_our  word_freq_over  word_freq_remove  word_freq_internet  \\\n",
       "0           0.14            0.28              0.21                0.07   \n",
       "1           1.23            0.19              0.19                0.12   \n",
       "2           0.63            0.00              0.31                0.63   \n",
       "3           0.63            0.00              0.31                0.63   \n",
       "4           1.85            0.00              0.00                1.85   \n",
       "\n",
       "   word_freq_order  word_freq_mail  ...  char_freq_semi_colon  \\\n",
       "0             0.00            0.94  ...                  0.00   \n",
       "1             0.64            0.25  ...                  0.01   \n",
       "2             0.31            0.63  ...                  0.00   \n",
       "3             0.31            0.63  ...                  0.00   \n",
       "4             0.00            0.00  ...                  0.00   \n",
       "\n",
       "   char_freq_open_round_bracket  char_freq_open_square_bracket  \\\n",
       "0                         0.132                            0.0   \n",
       "1                         0.143                            0.0   \n",
       "2                         0.137                            0.0   \n",
       "3                         0.135                            0.0   \n",
       "4                         0.223                            0.0   \n",
       "\n",
       "   char_freq_exclamatory_mark  char_freq_dollar_sign  char_freq_hashtag  \\\n",
       "0                       0.372                  0.180              0.048   \n",
       "1                       0.276                  0.184              0.010   \n",
       "2                       0.137                  0.000              0.000   \n",
       "3                       0.135                  0.000              0.000   \n",
       "4                       0.000                  0.000              0.000   \n",
       "\n",
       "   capital_run_length_average  capital_run_length_longest  \\\n",
       "0                       5.114                         101   \n",
       "1                       9.821                         485   \n",
       "2                       3.537                          40   \n",
       "3                       3.537                          40   \n",
       "4                       3.000                          15   \n",
       "\n",
       "   capital_run_length_total  spam_or_ham  \n",
       "0                      1028            1  \n",
       "1                      2259            1  \n",
       "2                       191            1  \n",
       "3                       191            1  \n",
       "4                        54            1  \n",
       "\n",
       "[5 rows x 58 columns]"
      ]
     },
     "execution_count": 2,
     "metadata": {},
     "output_type": "execute_result"
    }
   ],
   "source": [
    "spam_df = pd.read_csv(\"https://archive.ics.uci.edu/ml/machine-learning-databases/spambase/spambase.data\")\n",
    "spam_df.columns = ['word_freq_make','word_freq_address','word_freq_all','word_freq_3d','word_freq_our','word_freq_over','word_freq_remove','word_freq_internet','word_freq_order','word_freq_mail','word_freq_receive','word_freq_will','word_freq_people','word_freq_report','word_freq_addresses','word_freq_free','word_freq_business','word_freq_email','word_freq_you','word_freq_credit','word_freq_your','word_freq_font','word_freq_000','word_freq_money','word_freq_hp','word_freq_hpl','word_freq_george','word_freq_650','word_freq_lab','word_freq_labs','word_freq_telnet','word_freq_857','word_freq_data','word_freq_415','word_freq_85','word_freq_technology','word_freq_1999','word_freq_parts','word_freq_pm','word_freq_direct','word_freq_cs','word_freq_meeting','word_freq_original','word_freq_project','word_freq_re','word_freq_edu','word_freq_table','word_freq_conference','char_freq_semi_colon','char_freq_open_round_bracket','char_freq_open_square_bracket','char_freq_exclamatory_mark','char_freq_dollar_sign','char_freq_hashtag','capital_run_length_average','capital_run_length_longest','capital_run_length_total','spam_or_ham']\n",
    "spam_df.head()"
   ]
  },
  {
   "cell_type": "code",
   "execution_count": 3,
   "id": "4076fdf0",
   "metadata": {},
   "outputs": [
    {
     "data": {
      "text/plain": [
       "<function matplotlib.pyplot.show(close=None, block=None)>"
      ]
     },
     "execution_count": 3,
     "metadata": {},
     "output_type": "execute_result"
    },
    {
     "data": {
      "image/png": "[encoded data removed]",
      "text/plain": [
       "<Figure size 432x288 with 1 Axes>"
      ]
     },
     "metadata": {
      "needs_background": "light"
     },
     "output_type": "display_data"
    }
   ],
   "source": [
    "# Training time vs the number of centers when all the dataset is used.\n",
    "\n",
    "times = []\n",
    "center = []\n",
    "\n",
    "for centers in range (2,20,2) :\n",
    "    start = time.time()\n",
    "    km = KMeans(centers)\n",
    "    km.fit(spam_df)\n",
    "    times.append(time.time()-start)\n",
    "    center.append(centers)\n",
    "    \n",
    "plt.plot(center, times) \n",
    "plt.xlabel(\"Number of centers\")\n",
    "plt.ylabel(\"Running time\") \n",
    "plt.show"
   ]
  },
  {
   "cell_type": "code",
   "execution_count": 4,
   "id": "e170a9cc",
   "metadata": {},
   "outputs": [
    {
     "data": {
      "text/plain": [
       "<function matplotlib.pyplot.show(close=None, block=None)>"
      ]
     },
     "execution_count": 4,
     "metadata": {},
     "output_type": "execute_result"
    },
    {
     "data": {
      "image/png": "[encoded data removed]",
      "text/plain": [
       "<Figure size 432x288 with 1 Axes>"
      ]
     },
     "metadata": {
      "needs_background": "light"
     },
     "output_type": "display_data"
    }
   ],
   "source": [
    "# Clustering score vs the number of centers when all the dataset is used.\n",
    "\n",
    "sil_scores = []\n",
    "center = []\n",
    "\n",
    "for centers in range (2,20,2) :\n",
    "    km = KMeans(centers)\n",
    "    km.fit(spam_df)\n",
    "    sil_score = silhouette_score(spam_df, km.labels_, metric='euclidean')\n",
    "    center.append(centers)\n",
    "    sil_scores.append(sil_score)\n",
    "    \n",
    "plt.plot(center, sil_scores) \n",
    "plt.xlabel(\"Number of centers\")\n",
    "plt.ylabel(\"Score\") \n",
    "plt.show"
   ]
  },
  {
   "cell_type": "code",
   "execution_count": 5,
   "id": "4a3e9b76",
   "metadata": {},
   "outputs": [
    {
     "data": {
      "text/plain": [
       "<function matplotlib.pyplot.show(close=None, block=None)>"
      ]
     },
     "execution_count": 5,
     "metadata": {},
     "output_type": "execute_result"
    },
    {
     "data": {
      "image/png": "[encoded data removed]",
      "text/plain": [
       "<Figure size 432x288 with 1 Axes>"
      ]
     },
     "metadata": {
      "needs_background": "light"
     },
     "output_type": "display_data"
    }
   ],
   "source": [
    "# Training time vs the number of data points when the number of centers is set to 15.\n",
    "\n",
    "times = []\n",
    "data_points = []\n",
    "\n",
    "k = 3\n",
    "d = 5\n",
    "center = 15\n",
    "X = np.zeros((0,d)) \n",
    "for n in range(20):\n",
    "    start = time.time()\n",
    "    X = np.concatenate([ X, np.random.randn(n, d) + center])\n",
    "    times.append(time.time()-start)\n",
    "    data_points.append(n)\n",
    "    \n",
    "plt.plot(data_points, times) \n",
    "plt.xlabel(\"Data points\")\n",
    "plt.ylabel(\"Running time\") \n",
    "plt.show"
   ]
  },
  {
   "cell_type": "markdown",
   "id": "a99b5f04",
   "metadata": {},
   "source": [
    "### Task 2 (20 points)"
   ]
  },
  {
   "cell_type": "code",
   "execution_count": 6,
   "id": "b18dc0ee",
   "metadata": {},
   "outputs": [
    {
     "data": {
      "text/html": [
       "<div>\n",
       "<style scoped>\n",
       "    .dataframe tbody tr th:only-of-type {\n",
       "        vertical-align: middle;\n",
       "    }\n",
       "\n",
       "    .dataframe tbody tr th {\n",
       "        vertical-align: top;\n",
       "    }\n",
       "\n",
       "    .dataframe thead th {\n",
       "        text-align: right;\n",
       "    }\n",
       "</style>\n",
       "<table border=\"1\" class=\"dataframe\">\n",
       "  <thead>\n",
       "    <tr style=\"text-align: right;\">\n",
       "      <th></th>\n",
       "      <th>sepal length (cm)</th>\n",
       "      <th>sepal width (cm)</th>\n",
       "      <th>petal length (cm)</th>\n",
       "      <th>petal width (cm)</th>\n",
       "    </tr>\n",
       "  </thead>\n",
       "  <tbody>\n",
       "    <tr>\n",
       "      <th>0</th>\n",
       "      <td>5.1</td>\n",
       "      <td>3.5</td>\n",
       "      <td>1.4</td>\n",
       "      <td>0.2</td>\n",
       "    </tr>\n",
       "    <tr>\n",
       "      <th>1</th>\n",
       "      <td>4.9</td>\n",
       "      <td>3.0</td>\n",
       "      <td>1.4</td>\n",
       "      <td>0.2</td>\n",
       "    </tr>\n",
       "    <tr>\n",
       "      <th>2</th>\n",
       "      <td>4.7</td>\n",
       "      <td>3.2</td>\n",
       "      <td>1.3</td>\n",
       "      <td>0.2</td>\n",
       "    </tr>\n",
       "    <tr>\n",
       "      <th>3</th>\n",
       "      <td>4.6</td>\n",
       "      <td>3.1</td>\n",
       "      <td>1.5</td>\n",
       "      <td>0.2</td>\n",
       "    </tr>\n",
       "    <tr>\n",
       "      <th>4</th>\n",
       "      <td>5.0</td>\n",
       "      <td>3.6</td>\n",
       "      <td>1.4</td>\n",
       "      <td>0.2</td>\n",
       "    </tr>\n",
       "  </tbody>\n",
       "</table>\n",
       "</div>"
      ],
      "text/plain": [
       "   sepal length (cm)  sepal width (cm)  petal length (cm)  petal width (cm)\n",
       "0                5.1               3.5                1.4               0.2\n",
       "1                4.9               3.0                1.4               0.2\n",
       "2                4.7               3.2                1.3               0.2\n",
       "3                4.6               3.1                1.5               0.2\n",
       "4                5.0               3.6                1.4               0.2"
      ]
     },
     "execution_count": 6,
     "metadata": {},
     "output_type": "execute_result"
    }
   ],
   "source": [
    "feature_names = load_iris().feature_names\n",
    "X = pd.DataFrame(load_iris().data, columns=feature_names)\n",
    "y = load_iris().target\n",
    "X.head()"
   ]
  },
  {
   "cell_type": "code",
   "execution_count": 7,
   "id": "6b58b3d9",
   "metadata": {},
   "outputs": [
    {
     "name": "stdout",
     "output_type": "stream",
     "text": [
      "VarianceThreshold (150, 4) [ True  True  True  True]\n",
      "SelectKBest (150, 1) [False False  True False]\n",
      "SelectKBest (150, 2) [False False  True  True]\n",
      "SelectKBest (150, 3) [ True False  True  True]\n",
      "SelectKBest (150, 1) [False False  True False]\n",
      "SelectKBest (150, 2) [False False  True  True]\n",
      "SelectKBest (150, 3) [ True False  True  True]\n",
      "SelectKBest (150, 1) [False False False  True]\n",
      "SelectKBest (150, 2) [False False  True  True]\n",
      "SelectKBest (150, 3) [ True False  True  True]\n",
      "SelectPercentile (150, 1) [False False  True False]\n",
      "SelectPercentile (150, 1) [False False  True False]\n",
      "SelectPercentile (150, 2) [False False  True  True]\n",
      "SelectPercentile (150, 2) [False False  True  True]\n",
      "SelectPercentile (150, 3) [ True False  True  True]\n",
      "SelectPercentile (150, 1) [False False  True False]\n",
      "SelectPercentile (150, 1) [False False  True False]\n",
      "SelectPercentile (150, 2) [False False  True  True]\n",
      "SelectPercentile (150, 2) [False False  True  True]\n",
      "SelectPercentile (150, 3) [ True False  True  True]\n",
      "SelectPercentile (150, 0) [False False False False]\n",
      "SelectPercentile (150, 0) [False False False False]\n",
      "SelectPercentile (150, 2) [False False  True  True]\n",
      "SelectPercentile (150, 2) [False False  True  True]\n",
      "SelectPercentile (150, 3) [ True False  True  True]\n"
     ]
    },
    {
     "name": "stderr",
     "output_type": "stream",
     "text": [
      "/opt/anaconda3/lib/python3.9/site-packages/sklearn/feature_selection/_base.py:96: UserWarning: No features were selected: either the data is too noisy or the selection test too strict.\n",
      "  warn(\n",
      "/opt/anaconda3/lib/python3.9/site-packages/sklearn/feature_selection/_base.py:96: UserWarning: No features were selected: either the data is too noisy or the selection test too strict.\n",
      "  warn(\n"
     ]
    }
   ],
   "source": [
    "n = 100\n",
    "d = 4\n",
    "y[ y < 1] =0\n",
    "y[ y >= 1] = 1\n",
    "score_funcs = [ chi2, f_classif, mutual_info_classif ]\n",
    "transformers = [VarianceThreshold( threshold = (0.01) )]\n",
    "transformers +=[SelectKBest( score_func, k = k )\n",
    "                for score_func in score_funcs\n",
    "                  for k in range(1,d)]\n",
    "transformers +=[SelectPercentile( score_func, percentile = p )\n",
    "                for score_func in score_funcs\n",
    "                  for p in range(1,100,20)]\n",
    "\n",
    "for transformer in transformers:\n",
    "    transformer.fit(X, y)\n",
    "    result = transformer.get_support()\n",
    "    X_new = transformer.transform(X)\n",
    "    transName = str(transformer)\n",
    "    transName = transName[:transName.find(\"(\")]\n",
    "    print(transName,X_new.shape, result)\n",
    "    \n",
    "# 1: petal length, 2: petal width, 3: sepal length, 4: sepal width"
   ]
  },
  {
   "cell_type": "code",
   "execution_count": 8,
   "id": "205ea985",
   "metadata": {},
   "outputs": [
    {
     "name": "stdout",
     "output_type": "stream",
     "text": [
      "VarianceThreshold (150, 4) [ True  True  True  True]\n",
      "SelectFpr (150, 2) [False False  True  True]\n",
      "SelectFpr (150, 4) [ True  True  True  True]\n",
      "SelectFwe (150, 2) [False False  True  True]\n",
      "SelectFwe (150, 4) [ True  True  True  True]\n"
     ]
    }
   ],
   "source": [
    "n = 100\n",
    "d = 4\n",
    "y[ y < 1] =0\n",
    "y[ y >= 1] = 1\n",
    "\n",
    "score_funcs = [ chi2, f_classif,]\n",
    "transformers = [ VarianceThreshold( threshold = (0.01) )]\n",
    "transformers += [SelectFpr(score_func, alpha = 5e-4 ) for score_func in score_funcs]\n",
    "transformers += [SelectFwe(score_func, alpha = 5e-4 ) for score_func in score_funcs]\n",
    "\n",
    "for transformer in transformers:\n",
    "    transformer.fit(X, y)\n",
    "    result = transformer.get_support()\n",
    "    X_new = transformer.transform(X)\n",
    "    transName = str(transformer)\n",
    "    transName = transName[:transName.find(\"(\")]\n",
    "    print(transName,X_new.shape, result)\n",
    "    \n",
    "# These other methods display the same results as that of the ones used in the previous paragraph of the question."
   ]
  },
  {
   "cell_type": "markdown",
   "id": "12ca6de4",
   "metadata": {},
   "source": [
    "### Task 3 (10 points)"
   ]
  },
  {
   "cell_type": "code",
   "execution_count": 9,
   "id": "bc71d4aa",
   "metadata": {},
   "outputs": [
    {
     "name": "stdout",
     "output_type": "stream",
     "text": [
      "Degrees:\n",
      "[7, 8, 9, 10, 11, 12, 13, 14, 15, 16, 17, 18, 19, 20]\n",
      "\n",
      "Scores:\n",
      "[nan, 0.7, 0.7, 0.6, 0.767, 0.567, 0.9, 0.867, 0.933, 0.75, 0.883, 0.717, 0.95, 0.85]\n"
     ]
    },
    {
     "name": "stderr",
     "output_type": "stream",
     "text": [
      "/opt/anaconda3/lib/python3.9/site-packages/sklearn/model_selection/_validation.py:372: FitFailedWarning: \n",
      "5 fits failed out of a total of 5.\n",
      "The score on these train-test partitions for these parameters will be set to nan.\n",
      "If these failures are not expected, you can try to debug them by setting error_score='raise'.\n",
      "\n",
      "Below are more details about the failures:\n",
      "--------------------------------------------------------------------------------\n",
      "5 fits failed with the following error:\n",
      "Traceback (most recent call last):\n",
      "  File \"/opt/anaconda3/lib/python3.9/site-packages/sklearn/model_selection/_validation.py\", line 680, in _fit_and_score\n",
      "    estimator.fit(X_train, y_train, **fit_params)\n",
      "  File \"/opt/anaconda3/lib/python3.9/site-packages/sklearn/svm/_base.py\", line 199, in fit\n",
      "    y = self._validate_targets(y)\n",
      "  File \"/opt/anaconda3/lib/python3.9/site-packages/sklearn/svm/_base.py\", line 720, in _validate_targets\n",
      "    raise ValueError(\n",
      "ValueError: The number of classes has to be greater than one; got 1 class\n",
      "\n",
      "  warnings.warn(some_fits_failed_message, FitFailedWarning)\n",
      "/opt/anaconda3/lib/python3.9/site-packages/sklearn/model_selection/_split.py:676: UserWarning: The least populated class in y has only 3 members, which is less than n_splits=5.\n",
      "  warnings.warn(\n",
      "/opt/anaconda3/lib/python3.9/site-packages/sklearn/model_selection/_split.py:676: UserWarning: The least populated class in y has only 3 members, which is less than n_splits=5.\n",
      "  warnings.warn(\n",
      "/opt/anaconda3/lib/python3.9/site-packages/sklearn/model_selection/_split.py:676: UserWarning: The least populated class in y has only 4 members, which is less than n_splits=5.\n",
      "  warnings.warn(\n",
      "/opt/anaconda3/lib/python3.9/site-packages/sklearn/model_selection/_split.py:676: UserWarning: The least populated class in y has only 4 members, which is less than n_splits=5.\n",
      "  warnings.warn(\n",
      "/opt/anaconda3/lib/python3.9/site-packages/sklearn/model_selection/_split.py:676: UserWarning: The least populated class in y has only 2 members, which is less than n_splits=5.\n",
      "  warnings.warn(\n"
     ]
    },
    {
     "data": {
      "text/plain": [
       "'\\nHigher values of n will give a varying accuracy which are all above 0.6. \\nThe accuracy of binary classification was noted to be 1 for one of the n value above 10 a few times.\\nn value (dimensions) cannot be 0 or negative.\\nn value of 1 to 6 show the following error:n_splits=5 cannot be greater than the number of members in each class.\\n'"
      ]
     },
     "execution_count": 9,
     "metadata": {},
     "output_type": "execute_result"
    }
   ],
   "source": [
    "# Trying different values of n\n",
    "\n",
    "n = [7,8,9,10,11,12,13,14,15,16,17,18,19,20]\n",
    "scr = []\n",
    "\n",
    "for i in n:\n",
    "    d = 2\n",
    "    X = np.random.rand(i,d)\n",
    "    y = np.zeros((i))\n",
    "    y[ X[:,0] < X[:,1] ] = 1\n",
    "    estimator = SVC(kernel='linear')\n",
    "    score = cross_val_score(estimator, X, y).mean()\n",
    "    scr.append(round(score,3))\n",
    "\n",
    "print (\"Degrees:\")\n",
    "print (n)\n",
    "print (\"\\nScores:\")\n",
    "print (scr)\n",
    "\n",
    "'''\n",
    "Higher values of n will give a varying accuracy which are all above 0.6. \n",
    "The accuracy of binary classification was noted to be 1 for one of the n value above 10 a few times.\n",
    "n value (dimensions) cannot be 0 or negative.\n",
    "n value of 1 to 6 show the following error:n_splits=5 cannot be greater than the number of members in each class.\n",
    "''' "
   ]
  },
  {
   "cell_type": "code",
   "execution_count": 10,
   "id": "290129e6",
   "metadata": {},
   "outputs": [
    {
     "name": "stdout",
     "output_type": "stream",
     "text": [
      "Degrees: [1, 2, 3, 4, 5, 6, 7, 8, 9, 10]\n",
      "\n",
      "Scores: [0.434, 0.288, 0.447, 0.186, 0.257, 0.106, 0.43, 0.272, 0.411, 0.294]\n",
      "\n",
      "Time: [0.006, 0.005, 0.005, 0.004, 0.004, 0.004, 0.004, 0.004, 0.004, 0.004]\n"
     ]
    }
   ],
   "source": [
    "# Trying the regressor line of code with different degree values\n",
    "# Modifying the code to record the time\n",
    "\n",
    "dg = [1,2,3,4,5,6,7,8,9,10]\n",
    "scr = []\n",
    "times = []\n",
    "\n",
    "for i in dg:\n",
    "    start = time.time()\n",
    "    n = 10\n",
    "    d = 2\n",
    "    X = np.random.rand(n,d)\n",
    "    y = np.zeros((n))\n",
    "    y[ X[:,0] < X[:,1] ] = 1\n",
    "    regressor = make_pipeline(PolynomialFeatures(degree = i), Ridge())\n",
    "    score = cross_val_score(regressor, X, y).mean()\n",
    "    times.append(round(time.time()-start,3))\n",
    "    scr.append(round(score,3))\n",
    "    \n",
    "print (\"Degrees:\",dg)\n",
    "print (\"\\nScores:\",scr)\n",
    "print (\"\\nTime:\",times)"
   ]
  },
  {
   "cell_type": "code",
   "execution_count": 11,
   "id": "a5a49046",
   "metadata": {},
   "outputs": [
    {
     "data": {
      "text/plain": [
       "<function matplotlib.pyplot.show(close=None, block=None)>"
      ]
     },
     "execution_count": 11,
     "metadata": {},
     "output_type": "execute_result"
    },
    {
     "data": {
      "image/png": "[encoded data removed]",
      "text/plain": [
       "<Figure size 432x288 with 1 Axes>"
      ]
     },
     "metadata": {
      "needs_background": "light"
     },
     "output_type": "display_data"
    }
   ],
   "source": [
    "# Reporting the dependency of average score and degree\n",
    "\n",
    "''' The plot shows that it is hard to predict the exact pattern of \n",
    "dependency between avg score and degree values. It somehow has a random \n",
    "increasing and decreasing inconsistent dependency pattern.\n",
    "'''\n",
    "plt.plot (dg, scr) \n",
    "plt.xlabel(\"Degrees\")\n",
    "plt.ylabel(\"Average score\") \n",
    "plt.show"
   ]
  },
  {
   "cell_type": "code",
   "execution_count": 12,
   "id": "1a731f3b",
   "metadata": {},
   "outputs": [
    {
     "data": {
      "text/plain": [
       "<function matplotlib.pyplot.show(close=None, block=None)>"
      ]
     },
     "execution_count": 12,
     "metadata": {},
     "output_type": "execute_result"
    },
    {
     "data": {
      "image/png": "[encoded data removed]",
      "text/plain": [
       "<Figure size 432x288 with 1 Axes>"
      ]
     },
     "metadata": {
      "needs_background": "light"
     },
     "output_type": "display_data"
    }
   ],
   "source": [
    "# Reporting the dependency of run time and degree\n",
    "\n",
    "'''As degree value increases, the run time decreases.'''\n",
    "\n",
    "plt.plot (dg, times) \n",
    "plt.xlabel(\"Degrees\")\n",
    "plt.ylabel(\"Running time\") \n",
    "plt.show"
   ]
  },
  {
   "cell_type": "code",
   "execution_count": null,
   "id": "2edffde7",
   "metadata": {},
   "outputs": [],
   "source": []
  }
 ],
 "metadata": {
  "kernelspec": {
   "display_name": "Python 3 (ipykernel)",
   "language": "python",
   "name": "python3"
  },
  "language_info": {
   "codemirror_mode": {
    "name": "ipython",
    "version": 3
   },
   "file_extension": ".py",
   "mimetype": "text/x-python",
   "name": "python",
   "nbconvert_exporter": "python",
   "pygments_lexer": "ipython3",
   "version": "3.9.12"
  }
 },
 "nbformat": 4,
 "nbformat_minor": 5
}
