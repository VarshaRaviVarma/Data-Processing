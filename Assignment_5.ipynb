{
 "cells": [
  {
   "cell_type": "markdown",
   "id": "4cb72e38",
   "metadata": {},
   "source": [
    "# Data Processing - Assignment 5"
   ]
  },
  {
   "cell_type": "markdown",
   "id": "2d834ee9",
   "metadata": {},
   "source": [
    "### Task 1 (20 points)\n",
    "\n",
    "Here is a generic code to download a dataset from http://archive.ics.uci.edu/ml/index.php and run a regression task."
   ]
  },
  {
   "cell_type": "code",
   "execution_count": 1,
   "id": "5cd49617",
   "metadata": {},
   "outputs": [],
   "source": [
    "import time\n",
    "import numpy as np\n",
    "import pandas as pd\n",
    "from sklearn import linear_model\n",
    "from sklearn import datasets\n",
    "from scipy.stats import describe\n",
    "from sklearn.svm import SVC\n",
    "from sklearn.model_selection import cross_val_score\n",
    "from sklearn.preprocessing import OneHotEncoder"
   ]
  },
  {
   "cell_type": "markdown",
   "id": "8dcb3a3b",
   "metadata": {},
   "source": [
    "Read about information on the bike-sharing dataset:\n",
    "\n",
    "http://archive.ics.uci.edu/ml/datasets/bike+sharing+dataset\n",
    "\n",
    "download and run this code on it.\n",
    "\n",
    "bikeDataSet = genfromtxt('hour.csv', delimiter=',')\n",
    "\n",
    "X = bikeDataSet[1:,2:-1]\n",
    "\n",
    "y = bikeDataSet[1:,-1]\n",
    "\n",
    "from sklearn import linear_model\n",
    "\n",
    "estimator = linear_model.LinearRegression()\n",
    "\n",
    "score = cross_val_score(estimator, X, y).mean()\n",
    "\n",
    "print(f\"Score = {score:.3f}.\")\n",
    "\n",
    "Try putting random features with 𝑋=𝑛𝑝.𝑟𝑎𝑛𝑑𝑜𝑚.𝑟𝑎𝑛𝑑(𝑋.𝑠ℎ𝑎𝑝𝑒[0],4)'' and see how the score changes. Also try the following estimator instead: 𝑙𝑖𝑛𝑒𝑎𝑟_𝑚𝑜𝑑𝑒𝑙.𝐿𝑎𝑠𝑠𝑜(𝑎𝑙𝑝ℎ𝑎=0.1)'' and report the result in your NoteBook"
   ]
  },
  {
   "cell_type": "code",
   "execution_count": 2,
   "id": "c223b5f4",
   "metadata": {},
   "outputs": [
    {
     "name": "stdout",
     "output_type": "stream",
     "text": [
      "Score = 1.000.\n"
     ]
    }
   ],
   "source": [
    "bikeDataSet = np.genfromtxt('/Users/varsha/Downloads/Bike-Sharing-Dataset/hour.csv', delimiter=',')\n",
    "X = bikeDataSet[1:,2:-1]\n",
    "y = bikeDataSet[1:,-1]\n",
    "estimator = linear_model.LinearRegression()\n",
    "score = cross_val_score(estimator, X, y).mean()\n",
    "print(f\"Score = {score:.3f}.\")"
   ]
  },
  {
   "cell_type": "markdown",
   "id": "def6b40a",
   "metadata": {},
   "source": [
    "Changing X value:"
   ]
  },
  {
   "cell_type": "code",
   "execution_count": 3,
   "id": "fc582cfa",
   "metadata": {},
   "outputs": [
    {
     "name": "stdout",
     "output_type": "stream",
     "text": [
      "Score = -0.281.\n"
     ]
    }
   ],
   "source": [
    "X = np.random.rand(X.shape[0],4)\n",
    "score = cross_val_score(estimator, X, y).mean()\n",
    "print(f\"Score = {score:.3f}.\")"
   ]
  },
  {
   "cell_type": "code",
   "execution_count": 4,
   "id": "258ed994",
   "metadata": {},
   "outputs": [
    {
     "name": "stdout",
     "output_type": "stream",
     "text": [
      "Score = -0.281.\n"
     ]
    }
   ],
   "source": [
    "# Experimenting with various x values\n",
    "X = X/100\n",
    "score = cross_val_score(estimator, X, y).mean()\n",
    "print(f\"Score = {score:.3f}.\")"
   ]
  },
  {
   "cell_type": "code",
   "execution_count": 5,
   "id": "f74f7c85",
   "metadata": {},
   "outputs": [
    {
     "name": "stdout",
     "output_type": "stream",
     "text": [
      "Score = -0.475.\n"
     ]
    }
   ],
   "source": [
    "# Experimenting with various x values\n",
    "X = np.random.rand(X.shape[0],1500)\n",
    "score = cross_val_score(estimator, X, y).mean()\n",
    "print(f\"Score = {score:.3f}.\")"
   ]
  },
  {
   "cell_type": "markdown",
   "id": "fa159a9f",
   "metadata": {},
   "source": [
    "Changing estimator to Lasso:"
   ]
  },
  {
   "cell_type": "code",
   "execution_count": 6,
   "id": "ad512a7a",
   "metadata": {},
   "outputs": [
    {
     "name": "stdout",
     "output_type": "stream",
     "text": [
      "Score = 1.000.\n"
     ]
    }
   ],
   "source": [
    "X = bikeDataSet[1:,2:-1]\n",
    "estimator = linear_model.Lasso(alpha=0.1)\n",
    "score = cross_val_score(estimator, X, y).mean()\n",
    "print(f\"Score = {score:.3f}.\")"
   ]
  },
  {
   "cell_type": "code",
   "execution_count": 7,
   "id": "69c9f827",
   "metadata": {},
   "outputs": [
    {
     "name": "stdout",
     "output_type": "stream",
     "text": [
      "Score = -0.280.\n"
     ]
    }
   ],
   "source": [
    "X = np.random.rand(X.shape[0],4)\n",
    "score = cross_val_score(estimator, X, y).mean()\n",
    "print(f\"Score = {score:.3f}.\")"
   ]
  },
  {
   "cell_type": "markdown",
   "id": "35a5fce1",
   "metadata": {},
   "source": [
    "We can see the change in score whenever we assign X value to np.random.rand(X.shape[0],4) where the score is reduced from 1 to -0.280. \n",
    "\n",
    "However, the score remains to be the same as LinearRegression when we assign linear_model.Lasso(alpha=0.1) as the estimator."
   ]
  },
  {
   "cell_type": "markdown",
   "id": "4d829f34",
   "metadata": {},
   "source": [
    "***"
   ]
  },
  {
   "cell_type": "markdown",
   "id": "d047d674",
   "metadata": {},
   "source": [
    "### Task 2 (20 points)\n",
    "\n",
    "Download the full kddcup dataset from UCI repository and find out what each feature is about and which ones are categorical. Try to encode all the features using One hot encoding. Report how long the representation length is after the transformation. \n",
    "\n",
    "Use the skills you learned in the past modules to normalize the features so that each column has mean zero and unit standard deviation. \n",
    "\n",
    "Report how long it takes for your system to perform one-hot encoding and normalization together."
   ]
  },
  {
   "cell_type": "code",
   "execution_count": 8,
   "id": "010d58ed",
   "metadata": {},
   "outputs": [],
   "source": [
    "kddcupDataSet = pd.read_csv(\"http://archive.ics.uci.edu/ml/machine-learning-databases/kddcup99-mld/kddcup.data.gz\")\n",
    "kddcupDataSet.columns = ['duration', 'protocol_type', 'service', 'flag', 'src_bytes', 'dst_bytes', 'land', 'wrong_fragment', 'urgent', 'hot','num_failed_logins','logged_in','num_compromised','root_shell','su_attempted','num_root','num_file_creations','num_shells','num_access_files','num_outbound_cmds','is_hot_login','is_guest_login','count','srv_count','serror_rate','srv_serror_rate','rerror_rate','srv_rerror_rate','same_srv_rate','diff_srv_rate','srv_diff_host_rate','dst_host_count','dst_host_srv_count','dst_host_same_srv_rate','dst_host_diff_srv_rate','dst_host_same_src_port_rate','dst_host_srv_diff_host_rate','dst_host_serror_rate','dst_host_srv_serror_rate','dst_host_rerror_rate','dst_host_srv_rerror_rate','connection_type']"
   ]
  },
  {
   "cell_type": "code",
   "execution_count": 9,
   "id": "a56c8641",
   "metadata": {},
   "outputs": [
    {
     "data": {
      "text/html": [
       "<div>\n",
       "<style scoped>\n",
       "    .dataframe tbody tr th:only-of-type {\n",
       "        vertical-align: middle;\n",
       "    }\n",
       "\n",
       "    .dataframe tbody tr th {\n",
       "        vertical-align: top;\n",
       "    }\n",
       "\n",
       "    .dataframe thead th {\n",
       "        text-align: right;\n",
       "    }\n",
       "</style>\n",
       "<table border=\"1\" class=\"dataframe\">\n",
       "  <thead>\n",
       "    <tr style=\"text-align: right;\">\n",
       "      <th></th>\n",
       "      <th>duration</th>\n",
       "      <th>protocol_type</th>\n",
       "      <th>service</th>\n",
       "      <th>flag</th>\n",
       "      <th>src_bytes</th>\n",
       "      <th>dst_bytes</th>\n",
       "      <th>land</th>\n",
       "      <th>wrong_fragment</th>\n",
       "      <th>urgent</th>\n",
       "      <th>hot</th>\n",
       "      <th>...</th>\n",
       "      <th>dst_host_srv_count</th>\n",
       "      <th>dst_host_same_srv_rate</th>\n",
       "      <th>dst_host_diff_srv_rate</th>\n",
       "      <th>dst_host_same_src_port_rate</th>\n",
       "      <th>dst_host_srv_diff_host_rate</th>\n",
       "      <th>dst_host_serror_rate</th>\n",
       "      <th>dst_host_srv_serror_rate</th>\n",
       "      <th>dst_host_rerror_rate</th>\n",
       "      <th>dst_host_srv_rerror_rate</th>\n",
       "      <th>connection_type</th>\n",
       "    </tr>\n",
       "  </thead>\n",
       "  <tbody>\n",
       "    <tr>\n",
       "      <th>0</th>\n",
       "      <td>0</td>\n",
       "      <td>tcp</td>\n",
       "      <td>http</td>\n",
       "      <td>SF</td>\n",
       "      <td>162</td>\n",
       "      <td>4528</td>\n",
       "      <td>0</td>\n",
       "      <td>0</td>\n",
       "      <td>0</td>\n",
       "      <td>0</td>\n",
       "      <td>...</td>\n",
       "      <td>1</td>\n",
       "      <td>1.0</td>\n",
       "      <td>0.0</td>\n",
       "      <td>1.00</td>\n",
       "      <td>0.0</td>\n",
       "      <td>0.0</td>\n",
       "      <td>0.0</td>\n",
       "      <td>0.0</td>\n",
       "      <td>0.0</td>\n",
       "      <td>normal.</td>\n",
       "    </tr>\n",
       "    <tr>\n",
       "      <th>1</th>\n",
       "      <td>0</td>\n",
       "      <td>tcp</td>\n",
       "      <td>http</td>\n",
       "      <td>SF</td>\n",
       "      <td>236</td>\n",
       "      <td>1228</td>\n",
       "      <td>0</td>\n",
       "      <td>0</td>\n",
       "      <td>0</td>\n",
       "      <td>0</td>\n",
       "      <td>...</td>\n",
       "      <td>2</td>\n",
       "      <td>1.0</td>\n",
       "      <td>0.0</td>\n",
       "      <td>0.50</td>\n",
       "      <td>0.0</td>\n",
       "      <td>0.0</td>\n",
       "      <td>0.0</td>\n",
       "      <td>0.0</td>\n",
       "      <td>0.0</td>\n",
       "      <td>normal.</td>\n",
       "    </tr>\n",
       "    <tr>\n",
       "      <th>2</th>\n",
       "      <td>0</td>\n",
       "      <td>tcp</td>\n",
       "      <td>http</td>\n",
       "      <td>SF</td>\n",
       "      <td>233</td>\n",
       "      <td>2032</td>\n",
       "      <td>0</td>\n",
       "      <td>0</td>\n",
       "      <td>0</td>\n",
       "      <td>0</td>\n",
       "      <td>...</td>\n",
       "      <td>3</td>\n",
       "      <td>1.0</td>\n",
       "      <td>0.0</td>\n",
       "      <td>0.33</td>\n",
       "      <td>0.0</td>\n",
       "      <td>0.0</td>\n",
       "      <td>0.0</td>\n",
       "      <td>0.0</td>\n",
       "      <td>0.0</td>\n",
       "      <td>normal.</td>\n",
       "    </tr>\n",
       "    <tr>\n",
       "      <th>3</th>\n",
       "      <td>0</td>\n",
       "      <td>tcp</td>\n",
       "      <td>http</td>\n",
       "      <td>SF</td>\n",
       "      <td>239</td>\n",
       "      <td>486</td>\n",
       "      <td>0</td>\n",
       "      <td>0</td>\n",
       "      <td>0</td>\n",
       "      <td>0</td>\n",
       "      <td>...</td>\n",
       "      <td>4</td>\n",
       "      <td>1.0</td>\n",
       "      <td>0.0</td>\n",
       "      <td>0.25</td>\n",
       "      <td>0.0</td>\n",
       "      <td>0.0</td>\n",
       "      <td>0.0</td>\n",
       "      <td>0.0</td>\n",
       "      <td>0.0</td>\n",
       "      <td>normal.</td>\n",
       "    </tr>\n",
       "    <tr>\n",
       "      <th>4</th>\n",
       "      <td>0</td>\n",
       "      <td>tcp</td>\n",
       "      <td>http</td>\n",
       "      <td>SF</td>\n",
       "      <td>238</td>\n",
       "      <td>1282</td>\n",
       "      <td>0</td>\n",
       "      <td>0</td>\n",
       "      <td>0</td>\n",
       "      <td>0</td>\n",
       "      <td>...</td>\n",
       "      <td>5</td>\n",
       "      <td>1.0</td>\n",
       "      <td>0.0</td>\n",
       "      <td>0.20</td>\n",
       "      <td>0.0</td>\n",
       "      <td>0.0</td>\n",
       "      <td>0.0</td>\n",
       "      <td>0.0</td>\n",
       "      <td>0.0</td>\n",
       "      <td>normal.</td>\n",
       "    </tr>\n",
       "  </tbody>\n",
       "</table>\n",
       "<p>5 rows × 42 columns</p>\n",
       "</div>"
      ],
      "text/plain": [
       "   duration protocol_type service flag  src_bytes  dst_bytes  land  \\\n",
       "0         0           tcp    http   SF        162       4528     0   \n",
       "1         0           tcp    http   SF        236       1228     0   \n",
       "2         0           tcp    http   SF        233       2032     0   \n",
       "3         0           tcp    http   SF        239        486     0   \n",
       "4         0           tcp    http   SF        238       1282     0   \n",
       "\n",
       "   wrong_fragment  urgent  hot  ...  dst_host_srv_count  \\\n",
       "0               0       0    0  ...                   1   \n",
       "1               0       0    0  ...                   2   \n",
       "2               0       0    0  ...                   3   \n",
       "3               0       0    0  ...                   4   \n",
       "4               0       0    0  ...                   5   \n",
       "\n",
       "   dst_host_same_srv_rate  dst_host_diff_srv_rate  \\\n",
       "0                     1.0                     0.0   \n",
       "1                     1.0                     0.0   \n",
       "2                     1.0                     0.0   \n",
       "3                     1.0                     0.0   \n",
       "4                     1.0                     0.0   \n",
       "\n",
       "   dst_host_same_src_port_rate  dst_host_srv_diff_host_rate  \\\n",
       "0                         1.00                          0.0   \n",
       "1                         0.50                          0.0   \n",
       "2                         0.33                          0.0   \n",
       "3                         0.25                          0.0   \n",
       "4                         0.20                          0.0   \n",
       "\n",
       "   dst_host_serror_rate  dst_host_srv_serror_rate  dst_host_rerror_rate  \\\n",
       "0                   0.0                       0.0                   0.0   \n",
       "1                   0.0                       0.0                   0.0   \n",
       "2                   0.0                       0.0                   0.0   \n",
       "3                   0.0                       0.0                   0.0   \n",
       "4                   0.0                       0.0                   0.0   \n",
       "\n",
       "   dst_host_srv_rerror_rate  connection_type  \n",
       "0                       0.0          normal.  \n",
       "1                       0.0          normal.  \n",
       "2                       0.0          normal.  \n",
       "3                       0.0          normal.  \n",
       "4                       0.0          normal.  \n",
       "\n",
       "[5 rows x 42 columns]"
      ]
     },
     "execution_count": 9,
     "metadata": {},
     "output_type": "execute_result"
    }
   ],
   "source": [
    "kddcupDataSet.head()"
   ]
  },
  {
   "cell_type": "code",
   "execution_count": 10,
   "id": "0300f381",
   "metadata": {},
   "outputs": [
    {
     "data": {
      "text/plain": [
       "duration                         int64\n",
       "protocol_type                   object\n",
       "service                         object\n",
       "flag                            object\n",
       "src_bytes                        int64\n",
       "dst_bytes                        int64\n",
       "land                             int64\n",
       "wrong_fragment                   int64\n",
       "urgent                           int64\n",
       "hot                              int64\n",
       "num_failed_logins                int64\n",
       "logged_in                        int64\n",
       "num_compromised                  int64\n",
       "root_shell                       int64\n",
       "su_attempted                     int64\n",
       "num_root                         int64\n",
       "num_file_creations               int64\n",
       "num_shells                       int64\n",
       "num_access_files                 int64\n",
       "num_outbound_cmds                int64\n",
       "is_hot_login                     int64\n",
       "is_guest_login                   int64\n",
       "count                            int64\n",
       "srv_count                        int64\n",
       "serror_rate                    float64\n",
       "srv_serror_rate                float64\n",
       "rerror_rate                    float64\n",
       "srv_rerror_rate                float64\n",
       "same_srv_rate                  float64\n",
       "diff_srv_rate                  float64\n",
       "srv_diff_host_rate             float64\n",
       "dst_host_count                   int64\n",
       "dst_host_srv_count               int64\n",
       "dst_host_same_srv_rate         float64\n",
       "dst_host_diff_srv_rate         float64\n",
       "dst_host_same_src_port_rate    float64\n",
       "dst_host_srv_diff_host_rate    float64\n",
       "dst_host_serror_rate           float64\n",
       "dst_host_srv_serror_rate       float64\n",
       "dst_host_rerror_rate           float64\n",
       "dst_host_srv_rerror_rate       float64\n",
       "connection_type                 object\n",
       "dtype: object"
      ]
     },
     "execution_count": 10,
     "metadata": {},
     "output_type": "execute_result"
    }
   ],
   "source": [
    "kddcupDataSet.dtypes"
   ]
  },
  {
   "cell_type": "code",
   "execution_count": 11,
   "id": "8ffb7cb2",
   "metadata": {},
   "outputs": [
    {
     "name": "stdout",
     "output_type": "stream",
     "text": [
      "Time taken for one-hot encoding and normalization:  8.147058963775635\n"
     ]
    }
   ],
   "source": [
    "start_time = time.time()\n",
    "category = kddcupDataSet.select_dtypes(include='object')\n",
    "category_cols = category.columns.tolist()\n",
    "numerical = kddcupDataSet.select_dtypes(exclude='object')\n",
    "numerical_cols = numerical.columns.tolist()\n",
    "\n",
    "transformation = OneHotEncoder().fit_transform(kddcupDataSet[category_cols[:-1]])\n",
    "normalization = (kddcupDataSet[numerical_cols]-kddcupDataSet[numerical_cols].mean())/kddcupDataSet[numerical_cols].std()\n",
    "print (\"Time taken for one-hot encoding and normalization: \",time.time()-start_time)"
   ]
  },
  {
   "cell_type": "markdown",
   "id": "c93b6281",
   "metadata": {},
   "source": [
    "***\n",
    "### Task 3 (10 points)\n",
    "\n",
    "Run the following code with your guesses of optimal alpha, and report the value that gave the highest score:\n",
    "\n",
    "from sklearn import datasets\n",
    "\n",
    "from scipy.stats import describe\n",
    "\n",
    "from sklearn.svm import SVC\n",
    "\n",
    "alpha = 1\n",
    "\n",
    "iris = datasets.load_iris()\n",
    "\n",
    "X = iris.data\n",
    "\n",
    "y = iris.target\n",
    "\n",
    "X = X * alpha\n",
    "\n",
    "estimator = SVC(kernel = 'linear')\n",
    "\n",
    "score = cross_val_score(estimator, X, y).mean()\n",
    "\n",
    "print(f\"Score = {score:.3f}.\")\n"
   ]
  },
  {
   "cell_type": "code",
   "execution_count": 12,
   "id": "629922a3",
   "metadata": {},
   "outputs": [
    {
     "name": "stdout",
     "output_type": "stream",
     "text": [
      "Score = 0.987.\n"
     ]
    }
   ],
   "source": [
    "alpha = -.99\n",
    "iris = datasets.load_iris()\n",
    "X = iris.data\n",
    "y = iris.target\n",
    "X = X * alpha\n",
    "estimator = SVC(kernel = 'linear')\n",
    "score = cross_val_score(estimator, X, y).mean()\n",
    "print(f\"Score = {score:.3f}.\")"
   ]
  },
  {
   "cell_type": "code",
   "execution_count": 13,
   "id": "5d626dec",
   "metadata": {},
   "outputs": [
    {
     "name": "stdout",
     "output_type": "stream",
     "text": [
      "Score = 0.987.\n"
     ]
    }
   ],
   "source": [
    "alpha = .8\n",
    "iris = datasets.load_iris()\n",
    "X = iris.data\n",
    "y = iris.target\n",
    "X = X * alpha\n",
    "estimator = SVC(kernel = 'linear')\n",
    "score = cross_val_score(estimator, X, y).mean()\n",
    "print(f\"Score = {score:.3f}.\")"
   ]
  },
  {
   "cell_type": "markdown",
   "id": "e9b9dd11",
   "metadata": {},
   "source": [
    "I tried out various numbers ranging from 0-1000 and also negative values. The highest score obtained was 0.987 with alpha value being 0.8 and -0.99."
   ]
  }
 ],
 "metadata": {
  "kernelspec": {
   "display_name": "Python 3 (ipykernel)",
   "language": "python",
   "name": "python3"
  },
  "language_info": {
   "codemirror_mode": {
    "name": "ipython",
    "version": 3
   },
   "file_extension": ".py",
   "mimetype": "text/x-python",
   "name": "python",
   "nbconvert_exporter": "python",
   "pygments_lexer": "ipython3",
   "version": "3.9.12"
  }
 },
 "nbformat": 4,
 "nbformat_minor": 5
}
